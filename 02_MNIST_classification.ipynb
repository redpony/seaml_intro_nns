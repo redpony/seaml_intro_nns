{
  "nbformat": 4,
  "nbformat_minor": 0,
  "metadata": {
    "colab": {
      "name": "02_MNIST_classification.ipynb",
      "version": "0.3.2",
      "provenance": [],
      "include_colab_link": true
    },
    "kernelspec": {
      "name": "python3",
      "display_name": "Python 3"
    }
  },
  "cells": [
    {
      "cell_type": "markdown",
      "metadata": {
        "id": "view-in-github",
        "colab_type": "text"
      },
      "source": [
        "<a href=\"https://colab.research.google.com/github/redpony/seaml_intro_nns/blob/master/MNIST_classification.ipynb\" target=\"_parent\"><img src=\"https://colab.research.google.com/assets/colab-badge.svg\" alt=\"Open In Colab\"/></a>"
      ]
    },
    {
      "cell_type": "code",
      "metadata": {
        "id": "OuA_6Zgl3YoQ",
        "colab_type": "code",
        "colab": {}
      },
      "source": [
        "import tensorflow as tf\n",
        "from tensorflow.keras import layers\n",
        "import tensorflow_datasets as tfds\n",
        "import matplotlib.pyplot as plt\n",
        "import numpy as np\n",
        "tf.compat.v2.enable_v2_behavior()"
      ],
      "execution_count": 0,
      "outputs": []
    },
    {
      "cell_type": "markdown",
      "metadata": {
        "id": "yBvGWiih3iDR",
        "colab_type": "text"
      },
      "source": [
        "# Point of this notebook\n",
        "\n",
        " * Demonstrate the simplicity of working with an autodiff framework\n",
        " * Improve performance on MNIST digit classification task\n",
        "   * Better optimizer\n",
        "   * Add dropout"
      ]
    },
    {
      "cell_type": "code",
      "metadata": {
        "id": "43-9eQdb3lbh",
        "colab_type": "code",
        "colab": {
          "base_uri": "https://localhost:8080/",
          "height": 177
        },
        "outputId": "49265c37-3c90-4ea3-be82-a75d6ccff92f"
      },
      "source": [
        "# Construct a tf.data.Dataset\n",
        "dataset = tfds.load(name=\"mnist\", split=tfds.Split.TRAIN)\n",
        "test_dataset = tfds.load(name=\"mnist\", split=tfds.Split.TEST)\n",
        "example_image = next(iter(dataset))['image']\n",
        "\n",
        "plt.figure(figsize=(2,2))\n",
        "plt.imshow(tf.reshape(example_image, [28, 28]), cmap='gray')"
      ],
      "execution_count": 3,
      "outputs": [
        {
          "output_type": "execute_result",
          "data": {
            "text/plain": [
              "<matplotlib.image.AxesImage at 0x7f381239cdd8>"
            ]
          },
          "metadata": {
            "tags": []
          },
          "execution_count": 3
        },
        {
          "output_type": "display_data",
          "data": {
            "image/png": "[encoded data removed]",
            "text/plain": [
              "<Figure size 144x144 with 1 Axes>"
            ]
          },
          "metadata": {
            "tags": []
          }
        }
      ]
    },
    {
      "cell_type": "code",
      "metadata": {
        "id": "vCphmuMG4iio",
        "colab_type": "code",
        "colab": {}
      },
      "source": [
        "class MLPModel(layers.Layer):\n",
        "    def __init__(self, outputs=10, hiddens=1024, activation=tf.nn.relu):\n",
        "        super(MLPModel, self).__init__()\n",
        "\n",
        "        self.fc1 = layers.Dense(hiddens, activation=activation)\n",
        "        self.fc2 = layers.Dense(outputs, activation=None)\n",
        "\n",
        "    def __call__(self, x):\n",
        "        x = tf.reshape(x, [-1, 28 * 28])\n",
        "        h = self.fc1(x)\n",
        "        logits = self.fc2(h)\n",
        "        return logits"
      ],
      "execution_count": 0,
      "outputs": []
    },
    {
      "cell_type": "code",
      "metadata": {
        "id": "nk7DLIWa4qND",
        "colab_type": "code",
        "colab": {}
      },
      "source": [
        "batched_dataset = dataset.repeat(-1).shuffle(4096).batch(32)  # -1 = repeat forever\n",
        "batched_test_dataset = test_dataset.batch(32, drop_remainder=False)"
      ],
      "execution_count": 0,
      "outputs": []
    },
    {
      "cell_type": "code",
      "metadata": {
        "id": "LTtj6mjz5C0L",
        "colab_type": "code",
        "colab": {
          "base_uri": "https://localhost:8080/",
          "height": 187
        },
        "outputId": "4aea25e6-e084-4e21-8aa1-3ceab75f9c16"
      },
      "source": [
        "# Create model\n",
        "m = MLPModel()\n",
        "optimizer = tf.keras.optimizers.SGD(learning_rate=1e-3)\n",
        "\n",
        "# Training loop\n",
        "\n",
        "NUM_BATCHES = 5000\n",
        "REPORT_EVERY_I = 250\n",
        "TEST_EVERY_I = 500\n",
        "updates = 0\n",
        "eloss = None\n",
        "EMA_ALPHA = 0.1\n",
        "losses = []\n",
        "\n",
        "for features in batched_dataset.take(NUM_BATCHES):\n",
        "    image, label = features[\"image\"], features[\"label\"]\n",
        "    image = tf.cast(image, dtype=tf.float32) / 255.0\n",
        "    with tf.GradientTape() as tape:\n",
        "        logits = m(image)\n",
        "        loss = tf.reduce_mean(\n",
        "            tf.nn.sparse_softmax_cross_entropy_with_logits(labels=label,\n",
        "                                                           logits=logits))\n",
        "        \n",
        "    # track exponential moving average of \n",
        "    if eloss is None:\n",
        "        eloss = loss.numpy()\n",
        "    else:\n",
        "        eloss = eloss * (1 - EMA_ALPHA) + loss.numpy() * EMA_ALPHA\n",
        "    losses.append(eloss)\n",
        "    if updates % REPORT_EVERY_I == 0:\n",
        "        correct = 0.0\n",
        "        total = 0.0\n",
        "        if updates % TEST_EVERY_I == 0:\n",
        "            for features in batched_test_dataset:\n",
        "                image, label = features[\"image\"], features[\"label\"]\n",
        "                image = tf.cast(image, dtype=tf.float32) / 255.0\n",
        "                logits = m(image)\n",
        "                preds = tf.argmax(logits, axis=-1)\n",
        "                total += image.shape[0]\n",
        "                z = tf.equal(preds - label, 0)\n",
        "                correct += tf.reduce_sum(tf.cast(z, tf.float32))\n",
        "            print(\"[{}] Test accuracy: {} ({} of {})\".format(updates, correct / total, correct, total))\n",
        "    updates += 1\n",
        "    grads = tape.gradient(loss, m.trainable_weights)\n",
        "    optimizer.apply_gradients(grads_and_vars=zip(grads, m.trainable_weights))"
      ],
      "execution_count": 7,
      "outputs": [
        {
          "output_type": "stream",
          "text": [
            "[0] Test accuracy: 0.12770000100135803 (1277.0 of 10000.0)\n",
            "[500] Test accuracy: 0.6643000245094299 (6643.0 of 10000.0)\n",
            "[1000] Test accuracy: 0.7674000263214111 (7674.0 of 10000.0)\n",
            "[1500] Test accuracy: 0.8184000253677368 (8184.0 of 10000.0)\n",
            "[2000] Test accuracy: 0.8345999717712402 (8346.0 of 10000.0)\n",
            "[2500] Test accuracy: 0.8500999808311462 (8501.0 of 10000.0)\n",
            "[3000] Test accuracy: 0.8553000092506409 (8553.0 of 10000.0)\n",
            "[3500] Test accuracy: 0.862500011920929 (8625.0 of 10000.0)\n",
            "[4000] Test accuracy: 0.8709999918937683 (8710.0 of 10000.0)\n",
            "[4500] Test accuracy: 0.8733999729156494 (8734.0 of 10000.0)\n"
          ],
          "name": "stdout"
        }
      ]
    },
    {
      "cell_type": "code",
      "metadata": {
        "id": "fFYhJooE5QfP",
        "colab_type": "code",
        "colab": {
          "base_uri": "https://localhost:8080/",
          "height": 286
        },
        "outputId": "30b733be-1e79-4657-f65d-23d593743fbd"
      },
      "source": [
        "plt.plot(losses)\n",
        "# plt.plot(losses2)"
      ],
      "execution_count": 8,
      "outputs": [
        {
          "output_type": "execute_result",
          "data": {
            "text/plain": [
              "[<matplotlib.lines.Line2D at 0x7f380b6a5630>]"
            ]
          },
          "metadata": {
            "tags": []
          },
          "execution_count": 8
        },
        {
          "output_type": "display_data",
          "data": {
            "image/png": "[encoded data removed]",
            "text/plain": [
              "<Figure size 432x288 with 1 Axes>"
            ]
          },
          "metadata": {
            "tags": []
          }
        }
      ]
    }
  ]
}
