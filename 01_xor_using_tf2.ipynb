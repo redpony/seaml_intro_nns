{
  "nbformat": 4,
  "nbformat_minor": 0,
  "metadata": {
    "colab": {
      "name": "01_xor_using_tf2.ipynb",
      "version": "0.3.2",
      "provenance": [],
      "include_colab_link": true
    },
    "kernelspec": {
      "name": "python3",
      "display_name": "Python 3"
    }
  },
  "cells": [
    {
      "cell_type": "markdown",
      "metadata": {
        "id": "view-in-github",
        "colab_type": "text"
      },
      "source": [
        "<a href=\"https://colab.research.google.com/github/redpony/seaml_intro_nns/blob/master/01_xor_using_tf2.ipynb\" target=\"_parent\"><img src=\"https://colab.research.google.com/assets/colab-badge.svg\" alt=\"Open In Colab\"/></a>"
      ]
    },
    {
      "cell_type": "code",
      "metadata": {
        "id": "SHQ2wQiy2Cr6",
        "colab_type": "code",
        "colab": {}
      },
      "source": [
        "import numpy as np\n",
        "import matplotlib.pyplot as plt\n",
        "\n",
        "import tensorflow as tf\n",
        "tf.compat.v2.enable_v2_behavior()"
      ],
      "execution_count": 0,
      "outputs": []
    },
    {
      "cell_type": "markdown",
      "metadata": {
        "id": "jLfLuAd92NQV",
        "colab_type": "text"
      },
      "source": [
        "# Point of this Notebook\n",
        "\n",
        " * See example of autodiff in TF 2.0\n",
        " * See engineering benefits of it compared to writing gradients yourself"
      ]
    },
    {
      "cell_type": "markdown",
      "metadata": {
        "id": "xIyn32QA2VFt",
        "colab_type": "text"
      },
      "source": [
        "# Same XOR Data"
      ]
    },
    {
      "cell_type": "code",
      "metadata": {
        "id": "kBJlvJuI2OaA",
        "colab_type": "code",
        "colab": {}
      },
      "source": [
        "X = np.array([[-1., -1.],\n",
        "              [-1., 1.],\n",
        "              [1., -1.],\n",
        "              [1., 1.]])\n",
        "y = np.array([[-1.],\n",
        "              [1.],\n",
        "              [1.],\n",
        "              [-1.]])\n",
        "ETA = 0.15  # learning rate for SGD\n",
        "EPOCHS = 35"
      ],
      "execution_count": 0,
      "outputs": []
    },
    {
      "cell_type": "markdown",
      "metadata": {
        "id": "VwhMXbl92ZSm",
        "colab_type": "text"
      },
      "source": [
        "# MLP Code\n",
        "\n",
        " * Note just have the forward declaration\n",
        " * Exercise: change to `tanh`\n",
        " * Exercise: change to built-in optimizers in `tf.keras.optimizers`"
      ]
    },
    {
      "cell_type": "code",
      "metadata": {
        "id": "XEfP4_WF2fXm",
        "colab_type": "code",
        "colab": {
          "base_uri": "https://localhost:8080/",
          "height": 371
        },
        "outputId": "10156674-0446-47d3-da66-ee68027e6659"
      },
      "source": [
        "HIDDEN = 32\n",
        "\n",
        "# use tf.Variable to declare things we will differentiate with respect to\n",
        "W = tf.Variable(np.random.normal(size=(2, HIDDEN)) / np.sqrt(HIDDEN))\n",
        "a = tf.Variable(np.zeros(shape=(HIDDEN, )))\n",
        "V = tf.Variable(np.random.normal(size=(HIDDEN, 1)) / np.sqrt(HIDDEN))\n",
        "\n",
        "mlp_losses = []\n",
        "\n",
        "for _ in range(EPOCHS):\n",
        "    # instantiate the tape that will be used to record operations\n",
        "    with tf.GradientTape() as tape:\n",
        "        p = X @ W + a\n",
        "        h = tf.nn.relu(p)\n",
        "        y_pred = h @ V\n",
        "        loss = 0.5 * tf.reduce_sum((y_pred - y)**2)\n",
        "    mlp_losses.append(loss)\n",
        "    gW, ga, gV = tape.gradient(loss, sources=[W, a, V])\n",
        "    \n",
        "    W.assign_sub(ETA * gW)  # Can't write W -= ETA * gW (who knows why)\n",
        "    a.assign_sub(ETA * ga)\n",
        "    V.assign_sub(ETA * gV)\n",
        "\n",
        "print(\"Predictions after training:\\n{}\".format(y_pred))\n",
        "plt.plot(mlp_losses)"
      ],
      "execution_count": 4,
      "outputs": [
        {
          "output_type": "stream",
          "text": [
            "Predictions after training:\n",
            "[[-1.        ]\n",
            " [ 0.99999999]\n",
            " [ 1.        ]\n",
            " [-0.99999999]]\n"
          ],
          "name": "stdout"
        },
        {
          "output_type": "execute_result",
          "data": {
            "text/plain": [
              "[<matplotlib.lines.Line2D at 0x7f7310be2ba8>]"
            ]
          },
          "metadata": {
            "tags": []
          },
          "execution_count": 4
        },
        {
          "output_type": "display_data",
          "data": {
            "image/png": "[encoded data removed]",
            "text/plain": [
              "<Figure size 432x288 with 1 Axes>"
            ]
          },
          "metadata": {
            "tags": []
          }
        }
      ]
    }
  ]
}
