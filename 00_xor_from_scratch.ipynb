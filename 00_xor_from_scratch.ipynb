{
  "nbformat": 4,
  "nbformat_minor": 0,
  "metadata": {
    "colab": {
      "name": "00_xor_from_scratch.ipynb",
      "version": "0.3.2",
      "provenance": [],
      "include_colab_link": true
    },
    "kernelspec": {
      "name": "python3",
      "display_name": "Python 3"
    }
  },
  "cells": [
    {
      "cell_type": "markdown",
      "metadata": {
        "id": "view-in-github",
        "colab_type": "text"
      },
      "source": [
        "<a href=\"https://colab.research.google.com/github/redpony/seaml_intro_nns/blob/master/xor_from_scratch.ipynb\" target=\"_parent\"><img src=\"https://colab.research.google.com/assets/colab-badge.svg\" alt=\"Open In Colab\"/></a>"
      ]
    },
    {
      "cell_type": "code",
      "metadata": {
        "id": "or24uUbiwh2j",
        "colab_type": "code",
        "colab": {}
      },
      "source": [
        "import numpy as np\n",
        "import matplotlib.pyplot as plt"
      ],
      "execution_count": 0,
      "outputs": []
    },
    {
      "cell_type": "markdown",
      "metadata": {
        "id": "6cK_99VZwri3",
        "colab_type": "text"
      },
      "source": [
        "# Point of this notebook\n",
        "\n",
        "* See the limits of linear models for solving XOR\n",
        "* See the difficulty of computing derivatives by hand\n",
        "* See that MLPs with ReLU activations can solve XOR\n",
        "* See the difficulties with experimenting with MLPs written from scratch by changing the ReLU activation function to a tanh activation function\n",
        "* See that MLPs can solve XOR with different nonlinear activation functions"
      ]
    },
    {
      "cell_type": "code",
      "metadata": {
        "id": "VSru1flJw0Xr",
        "colab_type": "code",
        "colab": {
          "base_uri": "https://localhost:8080/",
          "height": 286
        },
        "outputId": "3a39fe0f-71d8-4b00-d2b4-d70e15ad2545"
      },
      "source": [
        "X = np.array([[-1., -1.],\n",
        "              [-1., 1.],\n",
        "              [1., -1.],\n",
        "              [1., 1.]])\n",
        "y = np.array([[-1.],\n",
        "              [1.],\n",
        "              [1.],\n",
        "              [-1.]])\n",
        "\n",
        "plt.scatter(X[:,0], X[:,1], c=np.where(np.reshape(y, (4, )) < 0, 0, 1))"
      ],
      "execution_count": 4,
      "outputs": [
        {
          "output_type": "execute_result",
          "data": {
            "text/plain": [
              "<matplotlib.collections.PathCollection at 0x7f05c22d53c8>"
            ]
          },
          "metadata": {
            "tags": []
          },
          "execution_count": 4
        },
        {
          "output_type": "display_data",
          "data": {
            "image/png": "[encoded data removed]",
            "text/plain": [
              "<Figure size 432x288 with 1 Axes>"
            ]
          },
          "metadata": {
            "tags": []
          }
        }
      ]
    },
    {
      "cell_type": "markdown",
      "metadata": {
        "id": "NBlCegKwxkfm",
        "colab_type": "text"
      },
      "source": [
        "# SGD Configuration"
      ]
    },
    {
      "cell_type": "code",
      "metadata": {
        "id": "gS5tQxmaw6Yj",
        "colab_type": "code",
        "colab": {}
      },
      "source": [
        "ETA = 0.15  # learning rate for SGD\n",
        "EPOCHS = 35"
      ],
      "execution_count": 0,
      "outputs": []
    },
    {
      "cell_type": "markdown",
      "metadata": {
        "id": "zbWyE1A8xsaQ",
        "colab_type": "text"
      },
      "source": [
        "# Linear model"
      ]
    },
    {
      "cell_type": "code",
      "metadata": {
        "id": "cwmA50BSxqMj",
        "colab_type": "code",
        "colab": {
          "base_uri": "https://localhost:8080/",
          "height": 371
        },
        "outputId": "f9cd6cdb-4290-43b1-fe38-ecd7c8ceb0a0"
      },
      "source": [
        "W = np.random.normal(size=(2, 1)) / np.sqrt(2)\n",
        "\n",
        "lin_losses = []\n",
        "\n",
        "for _ in range(EPOCHS):\n",
        "    y_pred = X @ W\n",
        "    loss = 0.5 * np.sum((y_pred - y)**2)\n",
        "    lin_losses.append(loss)\n",
        "    \n",
        "    # loss = 0.5 * \\sum_i (yp_i - y_i)^2\n",
        "    #      = \\sum_i yp_i^2 - 2 * yp_i * y_i + y_i^2\n",
        "    # dloss/dyp_i = 0.5 * (2 * yp_i - 2 * y_i) = yp_i - y_i\n",
        "    dloss_dy_pred = y_pred - y\n",
        "    \n",
        "    # dloss/dW = dy_pred/dW * dloss_dy_pred\n",
        "    #          = X^T * dloss_dy_pred\n",
        "    dloss_dW = X.T @ dloss_dy_pred\n",
        "    \n",
        "    W -= ETA * dloss_dW\n",
        "\n",
        "print(\"Predictions after training:\\n{}\".format(y_pred))\n",
        "plt.plot(lin_losses)"
      ],
      "execution_count": 6,
      "outputs": [
        {
          "output_type": "stream",
          "text": [
            "Predictions after training:\n",
            "[[ 1.61281734e-14]\n",
            " [ 3.27125935e-14]\n",
            " [-3.27125935e-14]\n",
            " [-1.61281734e-14]]\n"
          ],
          "name": "stdout"
        },
        {
          "output_type": "execute_result",
          "data": {
            "text/plain": [
              "[<matplotlib.lines.Line2D at 0x7f05c2249240>]"
            ]
          },
          "metadata": {
            "tags": []
          },
          "execution_count": 6
        },
        {
          "output_type": "display_data",
          "data": {
            "image/png": "[encoded data removed]",
            "text/plain": [
              "<Figure size 432x288 with 1 Axes>"
            ]
          },
          "metadata": {
            "tags": []
          }
        }
      ]
    },
    {
      "cell_type": "markdown",
      "metadata": {
        "id": "5WfCFImsx7Po",
        "colab_type": "text"
      },
      "source": [
        "# 1 Layer MLP with a ReLU"
      ]
    },
    {
      "cell_type": "code",
      "metadata": {
        "id": "97YgqpL-x-uM",
        "colab_type": "code",
        "colab": {
          "base_uri": "https://localhost:8080/",
          "height": 371
        },
        "outputId": "82d7ac8a-bd77-492d-b572-b82c8a91ac43"
      },
      "source": [
        "HIDDEN = 32\n",
        "\n",
        "W = np.random.normal(size=(2, HIDDEN)) / np.sqrt(HIDDEN)\n",
        "a = np.zeros(shape=(HIDDEN, ))\n",
        "V = np.random.normal(size=(HIDDEN, 1)) / np.sqrt(HIDDEN)\n",
        "\n",
        "mlp_losses = []\n",
        "\n",
        "def relu(x):\n",
        "    return np.where(x > 0.0, x, 0.0)\n",
        "\n",
        "for _ in range(EPOCHS):\n",
        "    p = X @ W + a\n",
        "    h = relu(p)\n",
        "    y_pred = h @ V\n",
        "    loss = 0.5 * np.sum((y_pred - y)**2)\n",
        "    mlp_losses.append(loss)\n",
        "\n",
        "    # loss = 0.5 * \\sum_i (yp_i - y_i)^2\n",
        "    #      = \\sum_i yp_i^2 - 2 * yp_i * y_i + y_i^2\n",
        "    # dloss/dyp_i = 0.5 * (2 * yp_i - 2 * y_i) = yp_i - y_i\n",
        "    dloss_dy_pred = y_pred - y\n",
        "    \n",
        "    # dloss/dV = dy_pred/dV * dloss/dy_pred\n",
        "    #          = h^T * dloss/dy_pred\n",
        "    dloss_dV = h.T @ dloss_dy_pred\n",
        "    \n",
        "    # dloss/dh = dloss/dy_pred * dy_pred/dh\n",
        "    dloss_dh = dloss_dy_pred @ V.T\n",
        "    \n",
        "    # dloss/dp = dloss/dh * dh/dp\n",
        "    #          = dloss/dh * is_non_zero(dh)\n",
        "    dloss_dp = np.where(h > 0.0, dloss_dh, 0.0)\n",
        "\n",
        "    # dloss/da = dloss/dp * dp/da\n",
        "    #          =          * ones(len(p))\n",
        "    #          = sum(dloss/dp, axis=0)\n",
        "    dloss_da = np.sum(dloss_dp, axis=0)\n",
        "    \n",
        "    # dloss/dW = dp/dW * dloss/dp\n",
        "    #            X^T * dloss/dp\n",
        "    dloss_dW = X.T @ dloss_dp\n",
        "\n",
        "    a -= ETA * dloss_da\n",
        "    V -= ETA * dloss_dV\n",
        "    W -= ETA * dloss_dW\n",
        "\n",
        "print(\"Predictions after training:\\n{}\".format(y_pred))\n",
        "plt.plot(lin_losses)\n",
        "plt.plot(mlp_losses)"
      ],
      "execution_count": 7,
      "outputs": [
        {
          "output_type": "stream",
          "text": [
            "Predictions after training:\n",
            "[[-1.        ]\n",
            " [ 0.99999999]\n",
            " [ 1.        ]\n",
            " [-1.        ]]\n"
          ],
          "name": "stdout"
        },
        {
          "output_type": "execute_result",
          "data": {
            "text/plain": [
              "[<matplotlib.lines.Line2D at 0x7f05c21bb320>]"
            ]
          },
          "metadata": {
            "tags": []
          },
          "execution_count": 7
        },
        {
          "output_type": "display_data",
          "data": {
            "image/png": "[encoded data removed]",
            "text/plain": [
              "<Figure size 432x288 with 1 Axes>"
            ]
          },
          "metadata": {
            "tags": []
          }
        }
      ]
    },
    {
      "cell_type": "markdown",
      "metadata": {
        "id": "dwlyau3hyLi2",
        "colab_type": "text"
      },
      "source": [
        "# MLP Exercise\n",
        "\n",
        "Let's change the ReLU to `tanh`."
      ]
    },
    {
      "cell_type": "code",
      "metadata": {
        "id": "THYzK3vzyP7Z",
        "colab_type": "code",
        "colab": {
          "base_uri": "https://localhost:8080/",
          "height": 371
        },
        "outputId": "6144a6ee-2323-4973-ea7a-ba0c5693ae69"
      },
      "source": [
        "W = np.random.normal(size=(2, HIDDEN)) / np.sqrt(HIDDEN)\n",
        "a = np.zeros(shape=(HIDDEN, ))\n",
        "V = np.random.normal(size=(HIDDEN, 1)) / np.sqrt(HIDDEN)\n",
        "\n",
        "mlp_losses2 = []\n",
        "\n",
        "def relu(x):\n",
        "    return np.where(x > 0.0, x, 0.0)\n",
        "\n",
        "for _ in range(EPOCHS):\n",
        "    p = X @ W + a\n",
        "    h = relu(p)  # <--- CHANGE THIS\n",
        "    y_pred = h @ V\n",
        "    loss = 0.5 * np.sum((y_pred - y)**2)\n",
        "    mlp_losses2.append(loss)\n",
        "\n",
        "    # loss = 0.5 * \\sum_i (yp_i - y_i)^2\n",
        "    #      = \\sum_i yp_i^2 - 2 * yp_i * y_i + y_i^2\n",
        "    # dloss/dyp_i = 0.5 * (2 * yp_i - 2 * y_i) = yp_i - y_i\n",
        "    dloss_dy_pred = y_pred - y\n",
        "    \n",
        "    # dloss/dV = dy_pred/dV * dloss/dy_pred\n",
        "    #          = h^T * dloss/dy_pred\n",
        "    dloss_dV = h.T @ dloss_dy_pred\n",
        "    \n",
        "    # dloss/dh = dloss/dy_pred * dy_pred/dh\n",
        "    dloss_dh = dloss_dy_pred @ V.T\n",
        "    \n",
        "    # dloss/dp = dloss/dh * dh/dp\n",
        "    #          = dloss/dh * is_non_zero(dh)\n",
        "    dloss_dp = np.where(h > 0.0, dloss_dh, 0.0)\n",
        "\n",
        "    # dloss/da = dloss/dp * dp/da\n",
        "    #          =          * ones(len(p))\n",
        "    #          = sum(dloss/dp, axis=0)\n",
        "    dloss_da = np.sum(dloss_dp, axis=0)\n",
        "    \n",
        "    # dloss/dW = dp/dW * dloss/dp\n",
        "    #            X^T * dloss/dp\n",
        "    dloss_dW = X.T @ dloss_dp\n",
        "\n",
        "    a -= ETA * dloss_da\n",
        "    V -= ETA * dloss_dV\n",
        "    W -= ETA * dloss_dW\n",
        "\n",
        "print(\"Predictions after training:\\n{}\".format(y_pred))\n",
        "plt.plot(lin_losses)\n",
        "plt.plot(mlp_losses)\n",
        "plt.plot(mlp_losses2)"
      ],
      "execution_count": 8,
      "outputs": [
        {
          "output_type": "stream",
          "text": [
            "Predictions after training:\n",
            "[[-0.99999999]\n",
            " [ 0.99999998]\n",
            " [ 1.        ]\n",
            " [-0.99999999]]\n"
          ],
          "name": "stdout"
        },
        {
          "output_type": "execute_result",
          "data": {
            "text/plain": [
              "[<matplotlib.lines.Line2D at 0x7f05c21a7cf8>]"
            ]
          },
          "metadata": {
            "tags": []
          },
          "execution_count": 8
        },
        {
          "output_type": "display_data",
          "data": {
            "image/png": "[encoded data removed]",
            "text/plain": [
              "<Figure size 432x288 with 1 Axes>"
            ]
          },
          "metadata": {
            "tags": []
          }
        }
      ]
    }
  ]
}
